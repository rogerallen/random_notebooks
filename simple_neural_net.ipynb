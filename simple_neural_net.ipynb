{
 "cells": [
  {
   "cell_type": "code",
   "execution_count": 1,
   "metadata": {},
   "outputs": [],
   "source": [
    "# Work-in-progress\n",
    "#\n",
    "# most of the code cribbed from\n",
    "# https://towardsdatascience.com/lets-code-a-neural-network-in-plain-numpy-ae7e74410795\n",
    "#\n",
    "# but I had to modify in a few ways to get it working, plus figure out how to get it to \n",
    "# train anything.  Will hopefully fix this up to be more readable & useful for educational \n",
    "# purposes.\n",
    "#\n",
    "# Roger Allen - 2/1/2020\n",
    "%matplotlib inline\n",
    "import numpy as np\n",
    "import matplotlib.pyplot as plt"
   ]
  },
  {
   "cell_type": "code",
   "execution_count": 2,
   "metadata": {},
   "outputs": [],
   "source": [
    "def init_layers(nn_architecture, seed = 99):\n",
    "    np.random.seed(seed)\n",
    "    #number_of_layers = len(nn_architecture)\n",
    "    params_values = {}\n",
    "\n",
    "    for idx, layer in enumerate(nn_architecture):\n",
    "        layer_idx = idx + 1\n",
    "        layer_input_size = layer[\"input_dim\"]\n",
    "        layer_output_size = layer[\"output_dim\"]\n",
    "        \n",
    "        params_values['W' + str(layer_idx)] = np.random.randn(\n",
    "            layer_output_size, layer_input_size) * 0.1\n",
    "        params_values['b' + str(layer_idx)] = np.random.randn(\n",
    "            layer_output_size, 1) * 0.1\n",
    "        \n",
    "    return params_values\n",
    "\n",
    "def sigmoid(Z):\n",
    "    return 1/(1+np.exp(-Z))\n",
    "\n",
    "def relu(Z):\n",
    "    return np.maximum(0,Z)\n",
    "\n",
    "def sigmoid_backward(dA, Z):\n",
    "    sig = sigmoid(Z)\n",
    "    return dA * sig * (1 - sig)\n",
    "\n",
    "def relu_backward(dA, Z):\n",
    "    dZ = np.array(dA, copy = True)\n",
    "    dZ[Z <= 0] = 0\n",
    "    return dZ\n",
    "\n",
    "def single_layer_forward_propagation(A_prev, W_curr, b_curr, activation=\"relu\"):\n",
    "    Z_curr = np.dot(W_curr, A_prev) + b_curr\n",
    "    \n",
    "    if activation is \"relu\":\n",
    "        activation_func = relu\n",
    "    elif activation is \"sigmoid\":\n",
    "        activation_func = sigmoid\n",
    "    else:\n",
    "        raise Exception('Non-supported activation function')\n",
    "        \n",
    "    return activation_func(Z_curr), Z_curr\n",
    "\n",
    "def full_forward_propagation(X, params_values, nn_architecture):\n",
    "    memory = {}\n",
    "    A_curr = X\n",
    "    \n",
    "    for idx, layer in enumerate(nn_architecture):\n",
    "        layer_idx = idx + 1\n",
    "        A_prev = A_curr\n",
    "        \n",
    "        activ_function_curr = layer[\"activation\"]\n",
    "        W_curr = params_values[\"W\" + str(layer_idx)]\n",
    "        b_curr = params_values[\"b\" + str(layer_idx)]\n",
    "        A_curr, Z_curr = single_layer_forward_propagation(A_prev, W_curr, b_curr, activ_function_curr)\n",
    "        \n",
    "        memory[\"A\" + str(idx)] = A_prev\n",
    "        memory[\"Z\" + str(layer_idx)] = Z_curr\n",
    "       \n",
    "    return A_curr, memory\n",
    "\n",
    "def get_cost_value(Y_hat, Y):\n",
    "    m = Y_hat.shape[1]\n",
    "    cost = -1 / m * (np.dot(Y, np.log(Y_hat).T) + np.dot(1 - Y, np.log(1 - Y_hat).T))\n",
    "    return float(np.squeeze(cost))\n",
    "\n",
    "def get_accuracy_value(Y_hat, Y):\n",
    "    Y_hat_ = convert_prob_into_class(Y_hat)\n",
    "    return (Y_hat_ == Y).all(axis=0).mean()\n",
    "\n",
    "# from gist comment\n",
    "def convert_prob_into_class(probs):\n",
    "    probs_ = np.copy(probs)\n",
    "    probs_[probs_ > 0.5] = 1\n",
    "    probs_[probs_ <= 0.5] = 0\n",
    "    return probs_\n",
    "\n",
    "def single_layer_backward_propagation(dA_curr, W_curr, b_curr, Z_curr, A_prev, activation=\"relu\"):\n",
    "    m = A_prev.shape[1]\n",
    "    \n",
    "    if activation is \"relu\":\n",
    "        backward_activation_func = relu_backward\n",
    "    elif activation is \"sigmoid\":\n",
    "        backward_activation_func = sigmoid_backward\n",
    "    else:\n",
    "        raise Exception('Non-supported activation function')\n",
    "    \n",
    "    dZ_curr = backward_activation_func(dA_curr, Z_curr)\n",
    "    dW_curr = np.dot(dZ_curr, A_prev.T) / m\n",
    "    db_curr = np.sum(dZ_curr, axis=1, keepdims=True) / m\n",
    "    dA_prev = np.dot(W_curr.T, dZ_curr)\n",
    "\n",
    "    return dA_prev, dW_curr, db_curr\n",
    "\n",
    "def full_backward_propagation(Y_hat, Y, memory, params_values, nn_architecture):\n",
    "    grads_values = {}\n",
    "    #m = Y.shape[1]\n",
    "    Y = Y.reshape(Y_hat.shape)\n",
    "   \n",
    "    dA_prev = - (np.divide(Y, Y_hat) - np.divide(1 - Y, 1 - Y_hat))\n",
    "    \n",
    "    for layer_idx_prev, layer in reversed(list(enumerate(nn_architecture))):\n",
    "        layer_idx_curr = layer_idx_prev + 1\n",
    "        activ_function_curr = layer[\"activation\"]\n",
    "        \n",
    "        dA_curr = dA_prev\n",
    "        \n",
    "        A_prev = memory[\"A\" + str(layer_idx_prev)]\n",
    "        Z_curr = memory[\"Z\" + str(layer_idx_curr)]\n",
    "        W_curr = params_values[\"W\" + str(layer_idx_curr)]\n",
    "        b_curr = params_values[\"b\" + str(layer_idx_curr)]\n",
    "        \n",
    "        dA_prev, dW_curr, db_curr = single_layer_backward_propagation(\n",
    "            dA_curr, W_curr, b_curr, Z_curr, A_prev, activ_function_curr)\n",
    "        \n",
    "        grads_values[\"dW\" + str(layer_idx_curr)] = dW_curr\n",
    "        grads_values[\"db\" + str(layer_idx_curr)] = db_curr\n",
    "    \n",
    "    return grads_values\n",
    "\n",
    "def update(params_values, grads_values, nn_architecture, learning_rate):\n",
    "    for idx in range(len(nn_architecture)):\n",
    "        layer_idx = idx + 1 # changed to add this\n",
    "        params_values[\"W\" + str(layer_idx)] -= learning_rate * grads_values[\"dW\" + str(layer_idx)]        \n",
    "        params_values[\"b\" + str(layer_idx)] -= learning_rate * grads_values[\"db\" + str(layer_idx)]\n",
    "\n",
    "    return params_values\n",
    "\n",
    "def train(X, Y, nn_architecture, epochs, learning_rate, seed=2):\n",
    "    #breakpoint()\n",
    "    params_values = init_layers(nn_architecture, seed)\n",
    "    cost_history = []\n",
    "    accuracy_history = []\n",
    "    \n",
    "    for _ in range(epochs):\n",
    "        Y_hat, cache = full_forward_propagation(X, params_values, nn_architecture)\n",
    "        cost = get_cost_value(Y_hat, Y)\n",
    "        cost_history.append(cost)\n",
    "        accuracy = get_accuracy_value(Y_hat, Y)\n",
    "        accuracy_history.append(accuracy)\n",
    "        \n",
    "        grads_values = full_backward_propagation(Y_hat, Y, cache, params_values, nn_architecture)\n",
    "        params_values = update(params_values, grads_values, nn_architecture, learning_rate)\n",
    "        \n",
    "    return params_values, cost_history, accuracy_history\n",
    "\n",
    "def predict(X, params_values, nn_architecture):\n",
    "    Y_hat, _ = full_forward_propagation(X, params_values, nn_architecture)\n",
    "    Y_hat_ = convert_prob_into_class(Y_hat)\n",
    "    return Y_hat_, Y_hat\n",
    "\n",
    "def train_and_check(X,Y,epochs,learning_rate,seed):\n",
    "    params_values, cost_history, accuracy_history = train(X, Y, nn_architecture, epochs, learning_rate, seed)\n",
    "    plt.plot(cost_history,label=\"cost\")\n",
    "    plt.plot(accuracy_history,label=\"accuracy\")\n",
    "    plt.legend()\n",
    "    plt.title(\"Training History\")\n",
    "    print(f\"Test Predict:\\nX = {X}\\nY_predict = {predict(X, params_values, nn_architecture)}\")"
   ]
  },
  {
   "cell_type": "code",
   "execution_count": 3,
   "metadata": {},
   "outputs": [
    {
     "name": "stdout",
     "output_type": "stream",
     "text": [
      "Test Predict:\n",
      "X = [[0. 1.]]\n",
      "Y_predict = (array([[0., 1.]]), array([[5.04415384e-04, 9.95158068e-01]]))\n"
     ]
    },
    {
     "data": {
      "image/png": "[encoded data removed]",
      "text/plain": [
       "<Figure size 432x288 with 1 Axes>"
      ]
     },
     "metadata": {
      "needs_background": "light"
     },
     "output_type": "display_data"
    }
   ],
   "source": [
    "# simple input-follows-output works fine\n",
    "nn_architecture = [\n",
    "        {\"input_dim\": 1, \"output_dim\": 1, \"activation\": \"relu\"},\n",
    "        {\"input_dim\": 1, \"output_dim\": 1, \"activation\": \"sigmoid\"},\n",
    "    ]\n",
    "X = np.array([[0.0],[1.0]]).T\n",
    "Y = np.array([[0.0],[1.0]]).T\n",
    "epochs = 1000\n",
    "learning_rate = 0.5\n",
    "seed = 1999 #42\n",
    "\n",
    "train_and_check(X,Y,epochs,learning_rate,seed)"
   ]
  },
  {
   "cell_type": "code",
   "execution_count": 4,
   "metadata": {},
   "outputs": [
    {
     "name": "stdout",
     "output_type": "stream",
     "text": [
      "Test Predict:\n",
      "X = [[0. 0. 1. 1.]\n",
      " [0. 1. 0. 1.]]\n",
      "Y_predict = (array([[0., 1., 1., 1.]]), array([[0.07192781, 0.99402538, 0.9940743 , 0.99999724]]))\n"
     ]
    },
    {
     "data": {
      "image/png": "[encoded data removed]",
      "text/plain": [
       "<Figure size 432x288 with 1 Axes>"
      ]
     },
     "metadata": {
      "needs_background": "light"
     },
     "output_type": "display_data"
    }
   ],
   "source": [
    "# OR gate works fine\n",
    "nn_architecture = [\n",
    "        {\"input_dim\": 2, \"output_dim\": 2, \"activation\": \"relu\"},\n",
    "        {\"input_dim\": 2, \"output_dim\": 1, \"activation\": \"sigmoid\"},\n",
    "    ]\n",
    "X = np.array([[0.0,0.0],[0.0,1.0],[1.0,0.0],[1.0,1.0]]).T\n",
    "Y = np.array([[0.0],[1.0],[1.0],[1.0]]).T\n",
    "epochs = 1000\n",
    "learning_rate = 0.1\n",
    "seed = 1984\n",
    "train_and_check(X,Y,epochs,learning_rate,seed)"
   ]
  },
  {
   "cell_type": "code",
   "execution_count": 5,
   "metadata": {},
   "outputs": [
    {
     "name": "stdout",
     "output_type": "stream",
     "text": [
      "Test Predict:\n",
      "X = [[0. 0. 1. 1.]\n",
      " [0. 1. 0. 1.]]\n",
      "Y_predict = (array([[0., 1., 1., 1.]]), array([[0.01108157, 0.99701978, 0.99703089, 0.99945859]]))\n"
     ]
    },
    {
     "data": {
      "image/png": "[encoded data removed]",
      "text/plain": [
       "<Figure size 432x288 with 1 Axes>"
      ]
     },
     "metadata": {
      "needs_background": "light"
     },
     "output_type": "display_data"
    }
   ],
   "source": [
    "# full sigmoid OR gate works fine\n",
    "nn_architecture = [\n",
    "        {\"input_dim\": 2, \"output_dim\": 2, \"activation\": \"sigmoid\"},\n",
    "        {\"input_dim\": 2, \"output_dim\": 1, \"activation\": \"sigmoid\"},\n",
    "    ]\n",
    "X = np.array([[0.0,0.0],[0.0,1.0],[1.0,0.0],[1.0,1.0]]).T\n",
    "Y = np.array([[0.0],[1.0],[1.0],[1.0]]).T\n",
    "epochs = 1000\n",
    "learning_rate = 1\n",
    "seed = 1984\n",
    "train_and_check(X,Y,epochs,learning_rate,seed)"
   ]
  },
  {
   "cell_type": "code",
   "execution_count": 6,
   "metadata": {},
   "outputs": [
    {
     "name": "stdout",
     "output_type": "stream",
     "text": [
      "Test Predict:\n",
      "X = [[0. 0. 1. 1.]\n",
      " [0. 1. 0. 1.]]\n",
      "Y_predict = (array([[0., 0., 0., 1.]]), array([[1.32101687e-04, 3.86774282e-03, 3.86949672e-03, 9.87063931e-01]]))\n"
     ]
    },
    {
     "data": {
      "image/png": "[encoded data removed]",
      "text/plain": [
       "<Figure size 432x288 with 1 Axes>"
      ]
     },
     "metadata": {
      "needs_background": "light"
     },
     "output_type": "display_data"
    }
   ],
   "source": [
    "# full sigmoid AND gate works fine\n",
    "nn_architecture = [\n",
    "        {\"input_dim\": 2, \"output_dim\": 2, \"activation\": \"sigmoid\"},\n",
    "        {\"input_dim\": 2, \"output_dim\": 1, \"activation\": \"sigmoid\"},\n",
    "    ]\n",
    "X = np.array([[0.0,0.0],[0.0,1.0],[1.0,0.0],[1.0,1.0]]).T\n",
    "Y = np.array([[0.0],[0.0],[0.0],[1.0]]).T\n",
    "epochs = 1000\n",
    "learning_rate = 1\n",
    "seed = 1984\n",
    "train_and_check(X,Y,epochs,learning_rate,seed)"
   ]
  },
  {
   "cell_type": "code",
   "execution_count": 7,
   "metadata": {},
   "outputs": [
    {
     "name": "stdout",
     "output_type": "stream",
     "text": [
      "Test Predict:\n",
      "X = [[0. 1.]]\n",
      "Y_predict = (array([[0., 1.]]), array([[0.00143947, 0.99902251]]))\n"
     ]
    },
    {
     "data": {
      "image/png": "[encoded data removed]",
      "text/plain": [
       "<Figure size 432x288 with 1 Axes>"
      ]
     },
     "metadata": {
      "needs_background": "light"
     },
     "output_type": "display_data"
    }
   ],
   "source": [
    "# try a hidden layer follow -- works with different learning rate\n",
    "nn_architecture = [\n",
    "        {\"input_dim\": 1, \"output_dim\": 1, \"activation\": \"sigmoid\"},\n",
    "        {\"input_dim\": 1, \"output_dim\": 1, \"activation\": \"sigmoid\"},\n",
    "        {\"input_dim\": 1, \"output_dim\": 1, \"activation\": \"sigmoid\"},\n",
    "    ]\n",
    "X = np.array([[0.0],[1.0]]).T\n",
    "Y = np.array([[0.0],[1.0]]).T\n",
    "epochs = 1000\n",
    "learning_rate = 5.25\n",
    "seed = 1984\n",
    "train_and_check(X,Y,epochs,learning_rate,seed)"
   ]
  },
  {
   "cell_type": "code",
   "execution_count": 8,
   "metadata": {},
   "outputs": [
    {
     "name": "stdout",
     "output_type": "stream",
     "text": [
      "Test Predict:\n",
      "X = [[0. 0. 1. 1.]\n",
      " [0. 1. 0. 1.]]\n",
      "Y_predict = (array([[1., 0., 1., 0.]]), array([[0.50000264, 0.49996911, 0.50003057, 0.49999699]]))\n"
     ]
    },
    {
     "data": {
      "image/png": "[encoded data removed]",
      "text/plain": [
       "<Figure size 432x288 with 1 Axes>"
      ]
     },
     "metadata": {
      "needs_background": "light"
     },
     "output_type": "display_data"
    }
   ],
   "source": [
    "# XOR requires a hidden layer\n",
    "nn_architecture = [\n",
    "        {\"input_dim\": 2, \"output_dim\": 2, \"activation\": \"sigmoid\"},\n",
    "        {\"input_dim\": 2, \"output_dim\": 2, \"activation\": \"sigmoid\"},\n",
    "        {\"input_dim\": 2, \"output_dim\": 1, \"activation\": \"sigmoid\"},\n",
    "    ]\n",
    "X = np.array([[0.0,0.0],[0.0,1.0],[1.0,0.0],[1.0,1.0]]).T\n",
    "Y = np.array([[0.0],[1.0],[1.0],[0.0]]).T\n",
    "epochs = 5000\n",
    "learning_rate = 0.5\n",
    "seed = 1094\n",
    "\n",
    "# !!!\n",
    "# Not able to get this working yet\n",
    "# !!!\n",
    "train_and_check(X,Y,epochs,learning_rate,seed)"
   ]
  },
  {
   "cell_type": "code",
   "execution_count": null,
   "metadata": {},
   "outputs": [],
   "source": []
  }
 ],
 "metadata": {
  "kernelspec": {
   "display_name": "Python 3",
   "language": "python",
   "name": "python3"
  },
  "language_info": {
   "codemirror_mode": {
    "name": "ipython",
    "version": 3
   },
   "file_extension": ".py",
   "mimetype": "text/x-python",
   "name": "python",
   "nbconvert_exporter": "python",
   "pygments_lexer": "ipython3",
   "version": "3.7.4"
  }
 },
 "nbformat": 4,
 "nbformat_minor": 4
}
