{
 "cells": [
  {
   "cell_type": "markdown",
   "metadata": {},
   "source": [
    "From http://fivethirtyeight.com/features/can-you-slay-the-puzzle-of-the-monsters-gems/\n",
    "\n",
    "A video game requires you to slay monsters to collect gems. Every time you slay a monster, it drops one of three types of gems: a common gem, an uncommon gem or a rare gem. The probabilities of these gems being dropped are in the ratio of 3:2:1 — three common gems for every two uncommon gems for every one rare gem, on average. If you slay monsters until you have at least one of each of the three types of gems, __how many of the most common gems will you end up with, on average?__"
   ]
  },
  {
   "cell_type": "code",
   "execution_count": 1,
   "metadata": {
    "collapsed": true
   },
   "outputs": [],
   "source": [
    "import numpy as np\n",
    "from random import choice\n",
    "from collections import defaultdict"
   ]
  },
  {
   "cell_type": "code",
   "execution_count": 2,
   "metadata": {
    "collapsed": false
   },
   "outputs": [],
   "source": [
    "GEM_COMMON=1\n",
    "GEM_UNCOMMON=2\n",
    "GEM_RARE=3\n",
    "GEM_PROB_LIST=[GEM_RARE,\n",
    "               GEM_UNCOMMON,GEM_UNCOMMON,\n",
    "               GEM_COMMON,GEM_COMMON,GEM_COMMON]\n",
    "def slay():\n",
    "    return choice(GEM_PROB_LIST)\n",
    "\n",
    "def slay_until_done():\n",
    "    gem_count = defaultdict(int)\n",
    "    gem_set = set()\n",
    "    done_set = set()\n",
    "    done_set.add(GEM_COMMON)\n",
    "    done_set.add(GEM_UNCOMMON)\n",
    "    done_set.add(GEM_RARE)\n",
    "    while gem_set != done_set:\n",
    "        gem = slay()\n",
    "        gem_count[gem] += 1\n",
    "        gem_set.add(gem)\n",
    "    return gem_count\n",
    "\n",
    "def run_get_common_list(N):\n",
    "    common_list = np.zeros(N)\n",
    "    for i in range(N):\n",
    "        common_list[i] = slay_until_done()[GEM_COMMON]\n",
    "    return common_list\n",
    "\n",
    "def answer(N):\n",
    "    print(\"for {} game runs, the average common count is {}\".format(N,np.average(run_get_common_list(N))))\n",
    "    "
   ]
  },
  {
   "cell_type": "code",
   "execution_count": 3,
   "metadata": {
    "collapsed": false
   },
   "outputs": [
    {
     "name": "stdout",
     "output_type": "stream",
     "text": [
      "for 10 game runs, the average common count is 3.3\n",
      "for 100 game runs, the average common count is 3.73\n",
      "for 1000 game runs, the average common count is 3.687\n",
      "for 10000 game runs, the average common count is 3.6404\n",
      "for 100000 game runs, the average common count is 3.65996\n",
      "for 1000000 game runs, the average common count is 3.648137\n"
     ]
    }
   ],
   "source": [
    "answer(10)\n",
    "answer(100)\n",
    "answer(1000)\n",
    "answer(10000)\n",
    "answer(100000)\n",
    "answer(1000000)"
   ]
  },
  {
   "cell_type": "markdown",
   "metadata": {},
   "source": [
    "So, we get about 3.65 common gems per game.  That rounds to 4 gems if we're talking about whole gems."
   ]
  },
  {
   "cell_type": "code",
   "execution_count": null,
   "metadata": {
    "collapsed": true
   },
   "outputs": [],
   "source": []
  }
 ],
 "metadata": {
  "kernelspec": {
   "display_name": "Python 3",
   "language": "python",
   "name": "python3"
  },
  "language_info": {
   "codemirror_mode": {
    "name": "ipython",
    "version": 3
   },
   "file_extension": ".py",
   "mimetype": "text/x-python",
   "name": "python",
   "nbconvert_exporter": "python",
   "pygments_lexer": "ipython3",
   "version": "3.5.0"
  }
 },
 "nbformat": 4,
 "nbformat_minor": 0
}
