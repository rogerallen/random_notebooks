{
 "cells": [
  {
   "cell_type": "markdown",
   "metadata": {},
   "source": [
    "A Notebook based on the American Scientist article \n",
    "\"New Dilemmas for the Prisoner\" by Brian Hayes\n",
    "\n",
    "http://www.americanscientist.org/issues/pub/new-dilemmas-for-the-prisoner\n",
    "\n",
    "Or, for a printer friendly version:\n",
    "http://www.americanscientist.org/issues/id.16112,y.0,no.,content.true,page.1,css.print/issue.aspx\n",
    "\n",
    "Various strategies are discussed for responding to the prisoner's dilemma problem using only a history of the previous move.  I wanted to code this up in python in order to explore the ideas.\n",
    "      "
   ]
  },
  {
   "cell_type": "code",
   "execution_count": 1,
   "metadata": {
    "collapsed": false
   },
   "outputs": [],
   "source": [
    "%matplotlib inline\n",
    "import matplotlib.pyplot as plt\n",
    "import numpy as np\n",
    "import pandas as pd\n",
    "import ipywidgets as pw"
   ]
  },
  {
   "cell_type": "code",
   "execution_count": 2,
   "metadata": {
    "collapsed": false
   },
   "outputs": [],
   "source": [
    "# There are two basic choices in the prisoner's dilemma: Cooperate or Defect.\n",
    "# We'll represent those choices like so: cooperate is \"c\", defect is \"d\"\n",
    "# NOTE: the initial condition of \"no choice\" will be represented by \" \"\n",
    "choices = [\"c\",\"d\"]\n",
    "\n",
    "# Given the choices of two prisoners, what is the payout for cooperating vs. defecting?\n",
    "payout = {\n",
    "    \"cc\": [3,3],\n",
    "    \"cd\": [0,5],\n",
    "    \"dc\": [5,0],\n",
    "    \"dd\": [1,1],\n",
    "}\n",
    "max_payout = max([payout[x][0]+payout[x][1] for x in payout])\n",
    "\n",
    "# A memory-one strategy\n",
    "class Strategy(object):\n",
    "    def __init__(self,coop_probs):\n",
    "        # input is a list of probabilities for cooperation, given a single prior event history.\n",
    "        # odds are given for \"  \", \"cc\", \"cd\", \"dc\", \"dd\" prior events where the 1st char your \n",
    "        # previous move, 2nd char is your opponent's previous move\n",
    "        self.probs = {\"  \": [coop_probs[0], 1.0-coop_probs[0]], \n",
    "                      \"cc\": [coop_probs[1], 1.0-coop_probs[1]],\n",
    "                      \"cd\": [coop_probs[2], 1.0-coop_probs[2]],\n",
    "                      \"dc\": [coop_probs[3], 1.0-coop_probs[3]],\n",
    "                      \"dd\": [coop_probs[4], 1.0-coop_probs[4]]\n",
    "                     }\n",
    "    def get_response(self,prior_event):\n",
    "        # return \"c\" or \"d\" based on your probabilities \n",
    "        return choices[np.random.choice(2, 1, p=self.probs[prior_event])[0]]\n",
    "        \n",
    "# what are the memory-one strategies you might have\n",
    "strategies = {\n",
    "    #                        \"  \", \"cc\", \"cd\", \"dc\", \"dd\"\n",
    "    \"random\":      Strategy([ 0.5,  0.5,  0.5,  0.5,  0.5]),\n",
    "    \"defect\":      Strategy([ 0.0,  0.0,  0.0,  0.0,  0.0]),\n",
    "    \"pavlov\":      Strategy([ 0.5,  1.0,  0.0,  0.0,  1.0]),\n",
    "    \"tit-for-tat\": Strategy([ 1.0,  1.0,  1.0,  0.0,  0.0]),\n",
    "    \"cooperate\":   Strategy([ 1.0,  1.0,  1.0,  1.0,  1.0]),\n",
    "    # some interesting fractional probability strategies\n",
    "    \"dictator\":    Strategy([ 1/2,  4/5,  2/5,  2/5,  1/5]),\n",
    "    \"extortioner\": Strategy([ 1/2, 11/13, 1/2, 7/26,    0]),\n",
    "    # all 16 binary strategies (some are duplicates)\n",
    "    \"s0000\":       Strategy([ 0.5,  0.0,  0.0,  0.0,  0.0,]),\n",
    "    \"s0001\":       Strategy([ 0.5,  0.0,  0.0,  0.0,  1.0,]),\n",
    "    \"s0010\":       Strategy([ 0.5,  0.0,  0.0,  1.0,  0.0,]),\n",
    "    \"s0011\":       Strategy([ 0.5,  0.0,  0.0,  1.0,  1.0,]),\n",
    "    \"s0100\":       Strategy([ 0.5,  0.0,  1.0,  0.0,  0.0,]),\n",
    "    \"s0101\":       Strategy([ 0.5,  0.0,  1.0,  0.0,  1.0,]),\n",
    "    \"s0110\":       Strategy([ 0.5,  0.0,  1.0,  1.0,  0.0,]),\n",
    "    \"s0111\":       Strategy([ 0.5,  0.0,  1.0,  1.0,  1.0,]),\n",
    "    \"s1000\":       Strategy([ 0.5,  1.0,  0.0,  0.0,  0.0,]),\n",
    "    \"s1001\":       Strategy([ 0.5,  1.0,  0.0,  0.0,  1.0,]),\n",
    "    \"s1010\":       Strategy([ 0.5,  1.0,  0.0,  1.0,  0.0,]),\n",
    "    \"s1011\":       Strategy([ 0.5,  1.0,  0.0,  1.0,  1.0,]),\n",
    "    \"s1100\":       Strategy([ 0.5,  1.0,  1.0,  0.0,  0.0,]),\n",
    "    \"s1101\":       Strategy([ 0.5,  1.0,  1.0,  0.0,  1.0,]),\n",
    "    \"s1110\":       Strategy([ 0.5,  1.0,  1.0,  1.0,  0.0,]),\n",
    "    \"s1111\":       Strategy([ 0.5,  1.0,  1.0,  1.0,  1.0,]),\n",
    "    # TODO search for other fractional strategies\n",
    "}\n",
    "\n",
    "class Player(object):\n",
    "    def __init__(self, strategy):\n",
    "        self.strategy    = strategy\n",
    "        self.value       = 0\n",
    "        self.last_choice = \" \"\n",
    "    def respond(self, their_choice):\n",
    "        self.last_choice = self.strategy.get_response(self.last_choice+their_choice)\n",
    "        return self.last_choice\n",
    "    \n",
    "class Game(object):\n",
    "    def __init__(self, strategy_name0, strategy_name1, turns):\n",
    "        self.name0 = strategy_name0\n",
    "        self.name1 = strategy_name1\n",
    "        self.player0 = Player(strategies[strategy_name0])\n",
    "        self.player1 = Player(strategies[strategy_name1])\n",
    "        self.turns = turns\n",
    "        # per-turn arrays\n",
    "        self.player0_choices = []\n",
    "        self.player1_choices = []\n",
    "        self.player0_values = []\n",
    "        self.player1_values = []\n",
    "    def play(self):\n",
    "        for i in range(self.turns):\n",
    "            player0_last_choice = self.player0.last_choice\n",
    "            player1_last_choice = self.player1.last_choice\n",
    "            self.player0_choices.append(self.player0.respond(player1_last_choice))\n",
    "            self.player1_choices.append(self.player1.respond(player0_last_choice))\n",
    "            values = payout[self.player0.last_choice+self.player1.last_choice]\n",
    "            self.player0.value += values[0]\n",
    "            self.player1.value += values[1]\n",
    "            self.player0_values.append(self.player0.value)\n",
    "            self.player1_values.append(self.player1.value)\n",
    "        self.df = pd.DataFrame({\n",
    "            \"player0_choices\": self.player0_choices,\n",
    "            \"player0_values\": self.player0_values,\n",
    "            \"player1_choices\": self.player1_choices,\n",
    "            \"player1_values\": self.player1_values\n",
    "        })\n",
    "        self.df[\"values\"] = self.df[\"player0_values\"] + self.df[\"player1_values\"]\n",
    "        self.df[\"norm_player0_values\"] = self.df[\"player0_values\"]/(max_payout*(self.df.index+1))\n",
    "        self.df[\"norm_player1_values\"] = self.df[\"player1_values\"]/(max_payout*(self.df.index+1))\n",
    "        self.df[\"norm_values\"] = self.df[\"values\"]/(max_payout*(self.df.index+1))\n",
    "    def normplot(self):\n",
    "        ax = self.df.plot(y=[\"norm_player0_values\",\"norm_player1_values\", \"norm_values\"],\n",
    "                          color=['g','m','k'],\n",
    "                         figsize=[12,4])\n",
    "        lines, labels = ax.get_legend_handles_labels()\n",
    "        ax.legend([self.name0, self.name1, \"values\"], loc='best')\n",
    "        ax.set_ylim([-0.1,1.1])\n",
    "\n",
    "# utility for interactive plots\n",
    "def iplot(strategy_a,strategy_b):\n",
    "    h = Game(strategy_a,strategy_b,1000)\n",
    "    h.play()\n",
    "    h.normplot()"
   ]
  },
  {
   "cell_type": "markdown",
   "metadata": {},
   "source": [
    "Interactively select different strategies to see how they fare in a simulation against each other."
   ]
  },
  {
   "cell_type": "code",
   "execution_count": 3,
   "metadata": {
    "collapsed": false
   },
   "outputs": [
    {
     "data": {
      "image/png": "[encoded data removed]",
      "text/plain": [
       "<matplotlib.figure.Figure at 0x11903fb70>"
      ]
     },
     "metadata": {},
     "output_type": "display_data"
    }
   ],
   "source": [
    "names=list(sorted(strategies.keys()))\n",
    "pw.interact(iplot,strategy_a=names,strategy_b=names)"
   ]
  },
  {
   "cell_type": "code",
   "execution_count": null,
   "metadata": {
    "collapsed": true
   },
   "outputs": [],
   "source": [
    "# space for the menus to drop...\n",
    "\n",
    "\n",
    "\n",
    "\n",
    "\n",
    "\n",
    "\n",
    "\n",
    "\n",
    "\n",
    "\n",
    "\n",
    "\n",
    "\n",
    "\n",
    "\n",
    "\n"
   ]
  }
 ],
 "metadata": {
  "kernelspec": {
   "display_name": "Python 3",
   "language": "python",
   "name": "python3"
  },
  "language_info": {
   "codemirror_mode": {
    "name": "ipython",
    "version": 3
   },
   "file_extension": ".py",
   "mimetype": "text/x-python",
   "name": "python",
   "nbconvert_exporter": "python",
   "pygments_lexer": "ipython3",
   "version": "3.5.1"
  }
 },
 "nbformat": 4,
 "nbformat_minor": 0
}
