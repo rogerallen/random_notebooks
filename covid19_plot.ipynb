{
 "cells": [
  {
   "cell_type": "markdown",
   "metadata": {},
   "source": [
    "# Covid-19 Basic Plot\n",
    "\n",
    "March 17, 2020\n",
    "\n",
    "Johns Hopkins University has put up a very nice [website to track the COVID-19 Pandemic](https://coronavirus.jhu.edu/map.html).\n",
    "They have also placed the underlying data in a [database of cases on github](https://github.com/CSSEGISandData/COVID-19).  I expect \n",
    "they will keep updating this data as time goes on.\n",
    "\n",
    "I'm just showing the basics of accessing this data and creating your own plots.  Reformatting data so it is easy\n",
    "to work with Pandas is always kind of a puzzle for me."
   ]
  },
  {
   "cell_type": "code",
   "execution_count": 1,
   "metadata": {},
   "outputs": [],
   "source": [
    "%matplotlib inline\n",
    "import pandas as pd\n",
    "import requests\n",
    "import matplotlib.pyplot as plt\n",
    "plt.style.use('ggplot')"
   ]
  },
  {
   "cell_type": "markdown",
   "metadata": {},
   "source": [
    "### Download the data\n",
    "\n",
    "Get the raw data (not the HTML-formatted data) and save it locally."
   ]
  },
  {
   "cell_type": "code",
   "execution_count": 2,
   "metadata": {},
   "outputs": [],
   "source": [
    "COVID_DATA_URL=\"https://raw.githubusercontent.com/CSSEGISandData/COVID-19/master/csse_covid_19_data/csse_covid_19_time_series/time_series_19-covid-Confirmed.csv\"\n",
    "resp = requests.get(COVID_DATA_URL)\n",
    "if(resp.ok):\n",
    "    with open(\"data/covid_19_timeline.csv\",\"w\") as f:\n",
    "        f.write(resp.text)"
   ]
  },
  {
   "cell_type": "markdown",
   "metadata": {},
   "source": [
    "### Adjust the data\n",
    "\n",
    "For some countries, the data has city, county or province data.  I'm looking just for country data, myself.\n",
    "So, I groupby the country and add it all up.  *I believe this is correct based on some spot checks, but be careful if you \"run\" with this data and make sure this is accurate!*  "
   ]
  },
  {
   "cell_type": "code",
   "execution_count": 3,
   "metadata": {},
   "outputs": [],
   "source": [
    "cv19_raw_df = pd.read_csv('data/covid_19_timeline.csv')\n",
    "cv19_raw_df.set_index('Country/Region', inplace=True)\n",
    "# convert raw to single value per country (I believe they have orthogonal data)\n",
    "cv19_sum_df = cv19_raw_df.groupby('Country/Region').sum()\n",
    "# get rid of the Lat/Lon columns\n",
    "cv19_sum_df = cv19_sum_df.T[2:]"
   ]
  },
  {
   "cell_type": "markdown",
   "metadata": {},
   "source": [
    "### See what it looks like\n",
    "\n",
    "Data is now reformatted how I wanted it for easy plotting."
   ]
  },
  {
   "cell_type": "code",
   "execution_count": 4,
   "metadata": {},
   "outputs": [
    {
     "data": {
      "text/html": [
       "<div>\n",
       "<style scoped>\n",
       "    .dataframe tbody tr th:only-of-type {\n",
       "        vertical-align: middle;\n",
       "    }\n",
       "\n",
       "    .dataframe tbody tr th {\n",
       "        vertical-align: top;\n",
       "    }\n",
       "\n",
       "    .dataframe thead th {\n",
       "        text-align: right;\n",
       "    }\n",
       "</style>\n",
       "<table border=\"1\" class=\"dataframe\">\n",
       "  <thead>\n",
       "    <tr style=\"text-align: right;\">\n",
       "      <th>Country/Region</th>\n",
       "      <th>Afghanistan</th>\n",
       "      <th>Albania</th>\n",
       "      <th>Algeria</th>\n",
       "      <th>Andorra</th>\n",
       "      <th>Antigua and Barbuda</th>\n",
       "      <th>Argentina</th>\n",
       "      <th>Armenia</th>\n",
       "      <th>Aruba</th>\n",
       "      <th>Australia</th>\n",
       "      <th>Austria</th>\n",
       "      <th>...</th>\n",
       "      <th>Turkey</th>\n",
       "      <th>US</th>\n",
       "      <th>Ukraine</th>\n",
       "      <th>United Arab Emirates</th>\n",
       "      <th>United Kingdom</th>\n",
       "      <th>Uruguay</th>\n",
       "      <th>Uzbekistan</th>\n",
       "      <th>Venezuela</th>\n",
       "      <th>Vietnam</th>\n",
       "      <th>occupied Palestinian territory</th>\n",
       "    </tr>\n",
       "  </thead>\n",
       "  <tbody>\n",
       "    <tr>\n",
       "      <td>1/22/20</td>\n",
       "      <td>0.0</td>\n",
       "      <td>0.0</td>\n",
       "      <td>0.0</td>\n",
       "      <td>0.0</td>\n",
       "      <td>0.0</td>\n",
       "      <td>0.0</td>\n",
       "      <td>0.0</td>\n",
       "      <td>0.0</td>\n",
       "      <td>0.0</td>\n",
       "      <td>0.0</td>\n",
       "      <td>...</td>\n",
       "      <td>0.0</td>\n",
       "      <td>1.0</td>\n",
       "      <td>0.0</td>\n",
       "      <td>0.0</td>\n",
       "      <td>0.0</td>\n",
       "      <td>0.0</td>\n",
       "      <td>0.0</td>\n",
       "      <td>0.0</td>\n",
       "      <td>0.0</td>\n",
       "      <td>0.0</td>\n",
       "    </tr>\n",
       "    <tr>\n",
       "      <td>1/23/20</td>\n",
       "      <td>0.0</td>\n",
       "      <td>0.0</td>\n",
       "      <td>0.0</td>\n",
       "      <td>0.0</td>\n",
       "      <td>0.0</td>\n",
       "      <td>0.0</td>\n",
       "      <td>0.0</td>\n",
       "      <td>0.0</td>\n",
       "      <td>0.0</td>\n",
       "      <td>0.0</td>\n",
       "      <td>...</td>\n",
       "      <td>0.0</td>\n",
       "      <td>1.0</td>\n",
       "      <td>0.0</td>\n",
       "      <td>0.0</td>\n",
       "      <td>0.0</td>\n",
       "      <td>0.0</td>\n",
       "      <td>0.0</td>\n",
       "      <td>0.0</td>\n",
       "      <td>2.0</td>\n",
       "      <td>0.0</td>\n",
       "    </tr>\n",
       "    <tr>\n",
       "      <td>1/24/20</td>\n",
       "      <td>0.0</td>\n",
       "      <td>0.0</td>\n",
       "      <td>0.0</td>\n",
       "      <td>0.0</td>\n",
       "      <td>0.0</td>\n",
       "      <td>0.0</td>\n",
       "      <td>0.0</td>\n",
       "      <td>0.0</td>\n",
       "      <td>0.0</td>\n",
       "      <td>0.0</td>\n",
       "      <td>...</td>\n",
       "      <td>0.0</td>\n",
       "      <td>2.0</td>\n",
       "      <td>0.0</td>\n",
       "      <td>0.0</td>\n",
       "      <td>0.0</td>\n",
       "      <td>0.0</td>\n",
       "      <td>0.0</td>\n",
       "      <td>0.0</td>\n",
       "      <td>2.0</td>\n",
       "      <td>0.0</td>\n",
       "    </tr>\n",
       "    <tr>\n",
       "      <td>1/25/20</td>\n",
       "      <td>0.0</td>\n",
       "      <td>0.0</td>\n",
       "      <td>0.0</td>\n",
       "      <td>0.0</td>\n",
       "      <td>0.0</td>\n",
       "      <td>0.0</td>\n",
       "      <td>0.0</td>\n",
       "      <td>0.0</td>\n",
       "      <td>0.0</td>\n",
       "      <td>0.0</td>\n",
       "      <td>...</td>\n",
       "      <td>0.0</td>\n",
       "      <td>2.0</td>\n",
       "      <td>0.0</td>\n",
       "      <td>0.0</td>\n",
       "      <td>0.0</td>\n",
       "      <td>0.0</td>\n",
       "      <td>0.0</td>\n",
       "      <td>0.0</td>\n",
       "      <td>2.0</td>\n",
       "      <td>0.0</td>\n",
       "    </tr>\n",
       "    <tr>\n",
       "      <td>1/26/20</td>\n",
       "      <td>0.0</td>\n",
       "      <td>0.0</td>\n",
       "      <td>0.0</td>\n",
       "      <td>0.0</td>\n",
       "      <td>0.0</td>\n",
       "      <td>0.0</td>\n",
       "      <td>0.0</td>\n",
       "      <td>0.0</td>\n",
       "      <td>4.0</td>\n",
       "      <td>0.0</td>\n",
       "      <td>...</td>\n",
       "      <td>0.0</td>\n",
       "      <td>5.0</td>\n",
       "      <td>0.0</td>\n",
       "      <td>0.0</td>\n",
       "      <td>0.0</td>\n",
       "      <td>0.0</td>\n",
       "      <td>0.0</td>\n",
       "      <td>0.0</td>\n",
       "      <td>2.0</td>\n",
       "      <td>0.0</td>\n",
       "    </tr>\n",
       "  </tbody>\n",
       "</table>\n",
       "<p>5 rows × 156 columns</p>\n",
       "</div>"
      ],
      "text/plain": [
       "Country/Region  Afghanistan  Albania  Algeria  Andorra  Antigua and Barbuda  \\\n",
       "1/22/20                 0.0      0.0      0.0      0.0                  0.0   \n",
       "1/23/20                 0.0      0.0      0.0      0.0                  0.0   \n",
       "1/24/20                 0.0      0.0      0.0      0.0                  0.0   \n",
       "1/25/20                 0.0      0.0      0.0      0.0                  0.0   \n",
       "1/26/20                 0.0      0.0      0.0      0.0                  0.0   \n",
       "\n",
       "Country/Region  Argentina  Armenia  Aruba  Australia  Austria  ...  Turkey  \\\n",
       "1/22/20               0.0      0.0    0.0        0.0      0.0  ...     0.0   \n",
       "1/23/20               0.0      0.0    0.0        0.0      0.0  ...     0.0   \n",
       "1/24/20               0.0      0.0    0.0        0.0      0.0  ...     0.0   \n",
       "1/25/20               0.0      0.0    0.0        0.0      0.0  ...     0.0   \n",
       "1/26/20               0.0      0.0    0.0        4.0      0.0  ...     0.0   \n",
       "\n",
       "Country/Region   US  Ukraine  United Arab Emirates  United Kingdom  Uruguay  \\\n",
       "1/22/20         1.0      0.0                   0.0             0.0      0.0   \n",
       "1/23/20         1.0      0.0                   0.0             0.0      0.0   \n",
       "1/24/20         2.0      0.0                   0.0             0.0      0.0   \n",
       "1/25/20         2.0      0.0                   0.0             0.0      0.0   \n",
       "1/26/20         5.0      0.0                   0.0             0.0      0.0   \n",
       "\n",
       "Country/Region  Uzbekistan  Venezuela  Vietnam  occupied Palestinian territory  \n",
       "1/22/20                0.0        0.0      0.0                             0.0  \n",
       "1/23/20                0.0        0.0      2.0                             0.0  \n",
       "1/24/20                0.0        0.0      2.0                             0.0  \n",
       "1/25/20                0.0        0.0      2.0                             0.0  \n",
       "1/26/20                0.0        0.0      2.0                             0.0  \n",
       "\n",
       "[5 rows x 156 columns]"
      ]
     },
     "execution_count": 4,
     "metadata": {},
     "output_type": "execute_result"
    }
   ],
   "source": [
    "cv19_sum_df.head()"
   ]
  },
  {
   "cell_type": "markdown",
   "metadata": {},
   "source": [
    "Just a simple cell to help you find country labels.  I was looking for \"South Korea\", but couldn't find it..."
   ]
  },
  {
   "cell_type": "code",
   "execution_count": 5,
   "metadata": {},
   "outputs": [
    {
     "name": "stdout",
     "output_type": "stream",
     "text": [
      "Korea, South\n"
     ]
    }
   ],
   "source": [
    "# find a country name...\n",
    "for c in cv19_sum_df.columns:\n",
    "    if c.find(\"Korea\") >= 0:\n",
    "        print(c)"
   ]
  },
  {
   "cell_type": "markdown",
   "metadata": {},
   "source": [
    "### Plot some countries\n",
    "\n",
    "Here is a basic plot for a few countries"
   ]
  },
  {
   "cell_type": "code",
   "execution_count": 6,
   "metadata": {},
   "outputs": [
    {
     "data": {
      "image/png": "[encoded data removed]",
      "text/plain": [
       "<Figure size 864x432 with 1 Axes>"
      ]
     },
     "metadata": {
      "needs_background": "light"
     },
     "output_type": "display_data"
    }
   ],
   "source": [
    "#countries = [\"China\",\"Korea, South\",\"Japan\",\"Italy\",\"France\",\"Germany\",\"US\"]\n",
    "countries = [\"Italy\",\"France\",\"Germany\",\"US\"]\n",
    "for country in countries:\n",
    "    cv19_sum_df[country].plot(label=country,figsize=(12,6),logy=True)\n",
    "plt.title(\"Covid-19 Cases (log scale)\")\n",
    "x = plt.legend()"
   ]
  },
  {
   "cell_type": "code",
   "execution_count": null,
   "metadata": {},
   "outputs": [],
   "source": []
  }
 ],
 "metadata": {
  "kernelspec": {
   "display_name": "Python [conda env:root] *",
   "language": "python",
   "name": "conda-root-py"
  },
  "language_info": {
   "codemirror_mode": {
    "name": "ipython",
    "version": 3
   },
   "file_extension": ".py",
   "mimetype": "text/x-python",
   "name": "python",
   "nbconvert_exporter": "python",
   "pygments_lexer": "ipython3",
   "version": "3.7.4"
  }
 },
 "nbformat": 4,
 "nbformat_minor": 4
}
