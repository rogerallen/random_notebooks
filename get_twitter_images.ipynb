{
 "cells": [
  {
   "cell_type": "markdown",
   "metadata": {},
   "source": [
    "Given some twitter image URLs, save the images to local files"
   ]
  },
  {
   "cell_type": "code",
   "execution_count": 27,
   "metadata": {
    "collapsed": false
   },
   "outputs": [],
   "source": [
    "import requests\n",
    "from bs4 import BeautifulSoup\n",
    "import shutil"
   ]
  },
  {
   "cell_type": "code",
   "execution_count": 59,
   "metadata": {
    "collapsed": false
   },
   "outputs": [],
   "source": [
    "def get_image_url(twitter_url):\n",
    "    r = requests.get(twitter_url)\n",
    "    soup = BeautifulSoup(r.text,\"lxml\")\n",
    "    img_url = soup.findAll(\"meta\", {\"property\" : \"og:image\"})[0][\"content\"]\n",
    "    return img_url\n",
    "\n",
    "def get_image_urls(twitter_urls):\n",
    "    return [get_image_url(u) for u in twitter_urls]\n",
    "\n",
    "def write_image_from_url(image_url,output_filename):\n",
    "    response = requests.get(image_url, stream=True)\n",
    "    with open(output_filename, 'wb') as out_file:\n",
    "        shutil.copyfileobj(response.raw, out_file)\n",
    "    del response\n",
    "    \n",
    "def get_images_from_urls(twitter_urls,base_filename):\n",
    "    image_urls = get_image_urls(twitter_urls)\n",
    "    filenames = [\"%s%02d.png\"%(base_filename,i) for i in range(len(image_urls))]\n",
    "    for (img_url,filename) in zip(image_urls,filenames):\n",
    "        write_image_from_url(img_url,filename)\n",
    "        \n",
    "def get_images_from_clj(clj_text,base_filename):\n",
    "    twitter_urls=clj_text.split()\n",
    "    twitter_urls=[x for x in twitter_urls if x.startswith(\"http\")]\n",
    "    get_images_from_urls(twitter_urls,base_filename)"
   ]
  },
  {
   "cell_type": "code",
   "execution_count": 60,
   "metadata": {
    "collapsed": false
   },
   "outputs": [],
   "source": [
    "# last week's top 5\n",
    "clj_txt=\"\"\"\n",
    "15 http://twitter.com/tweegeemee/status/696069980622819329/photo/1\n",
    "14 http://twitter.com/tweegeemee/status/696371000913629185/photo/1\n",
    "12 http://twitter.com/tweegeemee/status/696476662905643009/photo/1\n",
    "8 http://twitter.com/tweegeemee/status/694619490567462913/photo/1\n",
    "8 http://twitter.com/tweegeemee/status/694921402214977536/photo/1\n",
    "\"\"\""
   ]
  },
  {
   "cell_type": "code",
   "execution_count": 51,
   "metadata": {
    "collapsed": true
   },
   "outputs": [],
   "source": [
    "!mkdir tgm_weekly_feb1"
   ]
  },
  {
   "cell_type": "code",
   "execution_count": 52,
   "metadata": {
    "collapsed": false
   },
   "outputs": [],
   "source": [
    "get_images_from_clj(clj_txt,\"tgm_weekly_feb1/img_\")"
   ]
  },
  {
   "cell_type": "code",
   "execution_count": 53,
   "metadata": {
    "collapsed": true
   },
   "outputs": [],
   "source": [
    "# last month's top 10\n",
    "clj_txt=\"\"\"\n",
    "13 http://twitter.com/tweegeemee/status/683672404263055360/photo/1\n",
    "11 http://twitter.com/tweegeemee/status/693608644433285121/photo/1\n",
    "10 http://twitter.com/tweegeemee/status/692447583130750976/photo/1\n",
    "10 http://twitter.com/tweegeemee/status/693743521170329600/photo/1\n",
    "9 http://twitter.com/tweegeemee/status/686239497323937792/photo/1\n",
    "9 http://twitter.com/tweegeemee/status/688535539004362752/photo/1\n",
    "9 http://twitter.com/tweegeemee/status/691405110971363328/photo/1\n",
    "9 http://twitter.com/tweegeemee/status/692070649184002048/photo/1\n",
    "8 http://twitter.com/tweegeemee/status/690499864443092992/photo/1\n",
    "8 http://twitter.com/tweegeemee/status/690591634631827456/photo/1\n",
    "\"\"\""
   ]
  },
  {
   "cell_type": "code",
   "execution_count": 54,
   "metadata": {
    "collapsed": true
   },
   "outputs": [],
   "source": [
    "!mkdir tgm_monthly_jan"
   ]
  },
  {
   "cell_type": "code",
   "execution_count": 55,
   "metadata": {
    "collapsed": true
   },
   "outputs": [],
   "source": [
    "get_images_from_clj(clj_txt,\"tgm_monthly_jan/img_\")"
   ]
  },
  {
   "cell_type": "code",
   "execution_count": null,
   "metadata": {
    "collapsed": true
   },
   "outputs": [],
   "source": []
  }
 ],
 "metadata": {
  "kernelspec": {
   "display_name": "Python 3",
   "language": "python",
   "name": "python3"
  },
  "language_info": {
   "codemirror_mode": {
    "name": "ipython",
    "version": 3
   },
   "file_extension": ".py",
   "mimetype": "text/x-python",
   "name": "python",
   "nbconvert_exporter": "python",
   "pygments_lexer": "ipython3",
   "version": "3.5.1"
  }
 },
 "nbformat": 4,
 "nbformat_minor": 0
}
