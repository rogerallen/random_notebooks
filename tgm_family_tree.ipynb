{
 "cells": [
  {
   "cell_type": "code",
   "execution_count": 1,
   "metadata": {
    "collapsed": true
   },
   "outputs": [],
   "source": [
    "from PIL import Image, ImageDraw\n",
    "from glob import glob\n",
    "from math import floor,ceil"
   ]
  },
  {
   "cell_type": "code",
   "execution_count": 2,
   "metadata": {
    "collapsed": true
   },
   "outputs": [],
   "source": [
    "TILE_SIZE=64\n",
    "TILE_BORDER=8\n",
    "def tree_layout(layout,outfile):\n",
    "    width = TILE_BORDER+(TILE_SIZE+TILE_BORDER)*(max([x[0] for x in layout]) + 1)\n",
    "    height = TILE_BORDER+(TILE_SIZE+TILE_BORDER)*(max([x[1] for x in layout]) + 1)\n",
    "    background = Image.new('RGBA', \n",
    "                           (width, height), \n",
    "                           (220, 220, 220, 255))\n",
    "    draw = ImageDraw.Draw(background)\n",
    "    for i,node in enumerate(layout):\n",
    "        x0 = TILE_BORDER+(TILE_BORDER+TILE_SIZE)*(node[0]) + TILE_SIZE/2\n",
    "        y0 = TILE_BORDER+(TILE_BORDER+TILE_SIZE)*(node[1]) + TILE_SIZE/2\n",
    "        for j in range(node[2]):\n",
    "            if j == 0:\n",
    "                x1 = TILE_BORDER+(TILE_BORDER+TILE_SIZE)*(node[0]+1) + TILE_SIZE/2\n",
    "                y1 = TILE_BORDER+(TILE_BORDER+TILE_SIZE)*(node[1]) + TILE_SIZE/2\n",
    "                draw.line((x0,y0,x1,y1), fill=\"#000\")\n",
    "            else:\n",
    "                for k in range(i+1,len(layout)):\n",
    "                    if (layout[k][0] == node[0] + 1) and layout[k][1] > node[1]:\n",
    "                        x1 = TILE_BORDER+(TILE_BORDER+TILE_SIZE)*(layout[k][0]) + TILE_SIZE/2\n",
    "                        y1 = TILE_BORDER+(TILE_BORDER+TILE_SIZE)*(layout[k][1]) + TILE_SIZE/2\n",
    "                        draw.line((x0,y0,x1,y1), fill=\"#000\")\n",
    "                        break\n",
    "                    elif layout[k][0] > node[0] + 1:\n",
    "                        print(\"ERROR finding parent %d %s\"%(i, node[3]))\n",
    "                        break\n",
    "                    else:\n",
    "                        continue\n",
    "    for node in layout:\n",
    "        filename = '/Users/rallen/Documents/Devel/clojure/tweegeemee/images/tiles/%s.png'%(node[3])\n",
    "        img = Image.open(filename, 'r')\n",
    "        offset = (TILE_BORDER+(TILE_BORDER+TILE_SIZE)*(node[0]), \n",
    "                  TILE_BORDER+(TILE_BORDER+TILE_SIZE)*(node[1]))\n",
    "        #print(\"%s %d %d\"%(node[3],node[0],node[1]))\n",
    "        background.paste(img, offset)\n",
    "    # save it\n",
    "    background.save(outfile)"
   ]
  },
  {
   "cell_type": "code",
   "execution_count": 6,
   "metadata": {
    "collapsed": false
   },
   "outputs": [],
   "source": [
    "layout= [\n",
    "[0, 0, 2, '160208_193216_C.clj'],\n",
    "[1, 0, 1, '160206_203240_M.clj'],\n",
    "[1, 11, 0, '160208_063202_a.clj'],\n",
    "[2, 0, 1, '160202_203100_M.clj'],\n",
    "[3, 0, 2, '160131_013128_D.clj'],\n",
    "[4, 0, 0, '160128_153049_a.clj'],\n",
    "[4, 1, 2, '160127_163209_C.clj'],\n",
    "[5, 1, 1, '160124_053110_N.clj'],\n",
    "[5, 6, 1, '160124_233142_N.clj'],\n",
    "[6, 1, 1, '160122_113258_N.clj'],\n",
    "[6, 6, 1, '160122_173147_N.clj'],\n",
    "[7, 1, 2, '160121_223214_C.clj'],\n",
    "[7, 6, 1, '160122_113258_M.clj'],\n",
    "[8, 1, 0, '160119_213343_b.clj'],\n",
    "[8, 2, 2, '160118_223224_C.clj'],\n",
    "[8, 6, 2, '160121_223214_C.clj'],\n",
    "[9, 2, 1, '160117_233116_M.clj'],\n",
    "[9, 4, 1, '160117_233116_M.clj'],\n",
    "[9, 6, 0, '160119_213343_b.clj'],\n",
    "[9, 7, 2, '160118_223224_C.clj'],\n",
    "[10, 2, 2, '160117_013251_D.clj'],\n",
    "[10, 4, 2, '160117_013251_D.clj'],\n",
    "[10, 7, 1, '160117_233116_M.clj'],\n",
    "[10, 9, 1, '160117_233116_M.clj'],\n",
    "[11, 2, 0, '160114_003214_b.clj'],\n",
    "[11, 3, 1, '160113_203311_M.clj'],\n",
    "[11, 4, 0, '160114_003214_b.clj'],\n",
    "[11, 5, 1, '160113_203311_M.clj'],\n",
    "[11, 7, 2, '160117_013251_D.clj'],\n",
    "[11, 9, 2, '160117_013251_D.clj'],\n",
    "[12, 3, 0, '160109_101652_r.clj'],\n",
    "[12, 5, 0, '160109_101652_r.clj'],\n",
    "[12, 7, 0, '160114_003214_b.clj'],\n",
    "[12, 8, 1, '160113_203311_M.clj'],\n",
    "[12, 9, 0, '160114_003214_b.clj'],\n",
    "[12, 10, 1, '160113_203311_M.clj'],\n",
    "[13, 8, 0, '160109_101652_r.clj'],\n",
    "[13, 10, 0, '160109_101652_r.clj'],\n",
    "]"
   ]
  },
  {
   "cell_type": "code",
   "execution_count": 7,
   "metadata": {
    "collapsed": false
   },
   "outputs": [],
   "source": [
    "tree_layout(layout,'layout.png')"
   ]
  },
  {
   "cell_type": "code",
   "execution_count": 8,
   "metadata": {
    "collapsed": true
   },
   "outputs": [],
   "source": [
    "!mv layout.png tree_160208_193216_C.png"
   ]
  },
  {
   "cell_type": "code",
   "execution_count": null,
   "metadata": {
    "collapsed": true
   },
   "outputs": [],
   "source": []
  }
 ],
 "metadata": {
  "kernelspec": {
   "display_name": "Python 3",
   "language": "python",
   "name": "python3"
  },
  "language_info": {
   "codemirror_mode": {
    "name": "ipython",
    "version": 3
   },
   "file_extension": ".py",
   "mimetype": "text/x-python",
   "name": "python",
   "nbconvert_exporter": "python",
   "pygments_lexer": "ipython3",
   "version": "3.5.1"
  }
 },
 "nbformat": 4,
 "nbformat_minor": 0
}
