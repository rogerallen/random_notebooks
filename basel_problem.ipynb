{
 "cells": [
  {
   "cell_type": "markdown",
   "metadata": {},
   "source": [
    "March 14, 2016\n",
    "\n",
    "My π Day Obsession\n",
    "==================\n",
    "\n",
    "The mathematician Euler proved this relationship:\n",
    "\n",
    "￼$$\\sum_\\limits{n = 1}^{\\infty} \\frac{1}{n^s}  = \\prod_{p\\ prime} \\frac{1}{1 - p^{-s}} $$\n",
    "\n",
    "It is called the Euler Product Formula and it means that the sum of a function of counting numbers is equal to the product of a function of the sequence of prime numbers.\n",
    "\n",
    "For the case where s = 2, (the Basel Problem) the sum converges to:\n",
    "\n",
    "￼$$\\sum_\\limits{n = 1}^{\\infty} \\frac{1}{n^2}  = \\prod_{p\\ prime} \\frac{\\pi^{2}}{6} $$\n",
    "\n",
    "Given this, now we can see that the product of a function of the sequence of primes is related to π. How cool is that?! "
   ]
  },
  {
   "cell_type": "code",
   "execution_count": 2,
   "metadata": {
    "collapsed": true
   },
   "outputs": [],
   "source": [
    "%matplotlib inline\n",
    "import matplotlib.pyplot as plt\n",
    "import numpy as np\n",
    "import pandas as pd\n",
    "import requests\n",
    "from math import pi,sqrt\n",
    "\n",
    "pd.options.display.float_format = '{:,.9f}'.format"
   ]
  },
  {
   "cell_type": "code",
   "execution_count": 3,
   "metadata": {
    "collapsed": false
   },
   "outputs": [
    {
     "name": "stdout",
     "output_type": "stream",
     "text": [
      "10000 primes\n"
     ]
    }
   ],
   "source": [
    "primes_url = \"http://primes.utm.edu/lists/small/10000.txt\"\n",
    "primes_text = requests.get(primes_url).text.split('\\n')\n",
    "reading_primes = False\n",
    "primes = []\n",
    "for l in primes_text:\n",
    "    #print(l)\n",
    "    if not reading_primes:\n",
    "        if l.strip() == \"\":\n",
    "            reading_primes = True\n",
    "    else:\n",
    "        if l.strip() == \"end.\":\n",
    "            break\n",
    "        vals = l.split()\n",
    "        primes += [int(x) for x in vals]\n",
    "print(\"%d primes\"%(len(primes)))     "
   ]
  },
  {
   "cell_type": "code",
   "execution_count": 4,
   "metadata": {
    "collapsed": true
   },
   "outputs": [],
   "source": [
    "approx_pis = []\n",
    "delta_pis = []\n",
    "product = 1\n",
    "for p in primes:\n",
    "    product *= 1.0/(1.0 - (1.0/(p*p)))\n",
    "    approx_pi = sqrt(6*product)\n",
    "    approx_pis.append(approx_pi)\n",
    "    delta_pis.append(pi-approx_pi)"
   ]
  },
  {
   "cell_type": "code",
   "execution_count": 5,
   "metadata": {
    "collapsed": false
   },
   "outputs": [],
   "source": [
    "df = pd.DataFrame({'approx_pi':approx_pis,'delta_pi':delta_pis})"
   ]
  },
  {
   "cell_type": "code",
   "execution_count": 6,
   "metadata": {
    "collapsed": false
   },
   "outputs": [
    {
     "data": {
      "text/plain": [
       "<matplotlib.axes._subplots.AxesSubplot at 0x107144400>"
      ]
     },
     "execution_count": 6,
     "metadata": {},
     "output_type": "execute_result"
    },
    {
     "data": {
      "image/png": "[encoded data removed]",
      "text/plain": [
       "<matplotlib.figure.Figure at 0x115b43ef0>"
      ]
     },
     "metadata": {},
     "output_type": "display_data"
    }
   ],
   "source": [
    "# See how they converge at the start...\n",
    "df['approx_pi'][:20].plot()"
   ]
  },
  {
   "cell_type": "code",
   "execution_count": 7,
   "metadata": {
    "collapsed": false
   },
   "outputs": [
    {
     "name": "stdout",
     "output_type": "stream",
     "text": [
      "pi = 3.141592654\n"
     ]
    },
    {
     "data": {
      "text/html": [
       "<div>\n",
       "<table border=\"1\" class=\"dataframe\">\n",
       "  <thead>\n",
       "    <tr style=\"text-align: right;\">\n",
       "      <th></th>\n",
       "      <th>approx_pi</th>\n",
       "      <th>delta_pi</th>\n",
       "    </tr>\n",
       "  </thead>\n",
       "  <tbody>\n",
       "    <tr>\n",
       "      <th>9980</th>\n",
       "      <td>3.141591452</td>\n",
       "      <td>0.000001202</td>\n",
       "    </tr>\n",
       "    <tr>\n",
       "      <th>9981</th>\n",
       "      <td>3.141591452</td>\n",
       "      <td>0.000001202</td>\n",
       "    </tr>\n",
       "    <tr>\n",
       "      <th>9982</th>\n",
       "      <td>3.141591452</td>\n",
       "      <td>0.000001201</td>\n",
       "    </tr>\n",
       "    <tr>\n",
       "      <th>9983</th>\n",
       "      <td>3.141591452</td>\n",
       "      <td>0.000001201</td>\n",
       "    </tr>\n",
       "    <tr>\n",
       "      <th>9984</th>\n",
       "      <td>3.141591452</td>\n",
       "      <td>0.000001201</td>\n",
       "    </tr>\n",
       "    <tr>\n",
       "      <th>9985</th>\n",
       "      <td>3.141591453</td>\n",
       "      <td>0.000001201</td>\n",
       "    </tr>\n",
       "    <tr>\n",
       "      <th>9986</th>\n",
       "      <td>3.141591453</td>\n",
       "      <td>0.000001201</td>\n",
       "    </tr>\n",
       "    <tr>\n",
       "      <th>9987</th>\n",
       "      <td>3.141591453</td>\n",
       "      <td>0.000001201</td>\n",
       "    </tr>\n",
       "    <tr>\n",
       "      <th>9988</th>\n",
       "      <td>3.141591453</td>\n",
       "      <td>0.000001201</td>\n",
       "    </tr>\n",
       "    <tr>\n",
       "      <th>9989</th>\n",
       "      <td>3.141591453</td>\n",
       "      <td>0.000001200</td>\n",
       "    </tr>\n",
       "    <tr>\n",
       "      <th>9990</th>\n",
       "      <td>3.141591453</td>\n",
       "      <td>0.000001200</td>\n",
       "    </tr>\n",
       "    <tr>\n",
       "      <th>9991</th>\n",
       "      <td>3.141591453</td>\n",
       "      <td>0.000001200</td>\n",
       "    </tr>\n",
       "    <tr>\n",
       "      <th>9992</th>\n",
       "      <td>3.141591454</td>\n",
       "      <td>0.000001200</td>\n",
       "    </tr>\n",
       "    <tr>\n",
       "      <th>9993</th>\n",
       "      <td>3.141591454</td>\n",
       "      <td>0.000001200</td>\n",
       "    </tr>\n",
       "    <tr>\n",
       "      <th>9994</th>\n",
       "      <td>3.141591454</td>\n",
       "      <td>0.000001200</td>\n",
       "    </tr>\n",
       "    <tr>\n",
       "      <th>9995</th>\n",
       "      <td>3.141591454</td>\n",
       "      <td>0.000001200</td>\n",
       "    </tr>\n",
       "    <tr>\n",
       "      <th>9996</th>\n",
       "      <td>3.141591454</td>\n",
       "      <td>0.000001199</td>\n",
       "    </tr>\n",
       "    <tr>\n",
       "      <th>9997</th>\n",
       "      <td>3.141591454</td>\n",
       "      <td>0.000001199</td>\n",
       "    </tr>\n",
       "    <tr>\n",
       "      <th>9998</th>\n",
       "      <td>3.141591454</td>\n",
       "      <td>0.000001199</td>\n",
       "    </tr>\n",
       "    <tr>\n",
       "      <th>9999</th>\n",
       "      <td>3.141591455</td>\n",
       "      <td>0.000001199</td>\n",
       "    </tr>\n",
       "  </tbody>\n",
       "</table>\n",
       "</div>"
      ],
      "text/plain": [
       "       approx_pi    delta_pi\n",
       "9980 3.141591452 0.000001202\n",
       "9981 3.141591452 0.000001202\n",
       "9982 3.141591452 0.000001201\n",
       "9983 3.141591452 0.000001201\n",
       "9984 3.141591452 0.000001201\n",
       "9985 3.141591453 0.000001201\n",
       "9986 3.141591453 0.000001201\n",
       "9987 3.141591453 0.000001201\n",
       "9988 3.141591453 0.000001201\n",
       "9989 3.141591453 0.000001200\n",
       "9990 3.141591453 0.000001200\n",
       "9991 3.141591453 0.000001200\n",
       "9992 3.141591454 0.000001200\n",
       "9993 3.141591454 0.000001200\n",
       "9994 3.141591454 0.000001200\n",
       "9995 3.141591454 0.000001200\n",
       "9996 3.141591454 0.000001199\n",
       "9997 3.141591454 0.000001199\n",
       "9998 3.141591454 0.000001199\n",
       "9999 3.141591455 0.000001199"
      ]
     },
     "execution_count": 7,
     "metadata": {},
     "output_type": "execute_result"
    }
   ],
   "source": [
    "# see how close they get at the end...\n",
    "print(\"pi = %.9f\"%(pi))\n",
    "df.tail(20)"
   ]
  },
  {
   "cell_type": "code",
   "execution_count": null,
   "metadata": {
    "collapsed": true
   },
   "outputs": [],
   "source": []
  }
 ],
 "metadata": {
  "celltoolbar": "Raw Cell Format",
  "kernelspec": {
   "display_name": "Python 3",
   "language": "python",
   "name": "python3"
  },
  "language_info": {
   "codemirror_mode": {
    "name": "ipython",
    "version": 3
   },
   "file_extension": ".py",
   "mimetype": "text/x-python",
   "name": "python",
   "nbconvert_exporter": "python",
   "pygments_lexer": "ipython3",
   "version": "3.5.1"
  }
 },
 "nbformat": 4,
 "nbformat_minor": 0
}
