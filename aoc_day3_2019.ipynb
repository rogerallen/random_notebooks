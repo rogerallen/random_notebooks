{
 "cells": [
  {
   "cell_type": "markdown",
   "metadata": {},
   "source": [
    "@FogleBird's Advent of Code Day 3 Solution Explanation\n",
    "==============\n",
    "\n",
    "For my son, Stuart, who is a first-year CS student.  Walk through this code carefully...it is really worth understanding.  You'll be a better programmer if you can code like this.  I wish I did...my code was not as good as this.\n",
    "\n",
    "From: https://twitter.com/FogleBird/status/1201892507069628417\n",
    "\n",
    "![python code solution](https://pbs.twimg.com/media/EK3624OWkAACjNQ?format=jpg)\n",
    "\n",
    "Setup\n",
    "-----\n",
    "\n",
    "This is from the https://adventofcode.com/2019 day 3 puzzle.  I will be spoiling the puzzle for you, so go to the site and give it a try if you don't want it spoiled. I'll skip the story that sets it all up and describe it more simply if you don't care about the puzzle.\n",
    "\n",
    "While this is a contrived puzzle, the ideas are somewhat \"real world\" and resonated with me as close to some things I've worked on.\n",
    "\n",
    "Part 1\n",
    "------\n",
    "You get 2 lines of input.  These lines describe some \"turtle graphics\" that draw a line. The two lines intersect in at least one place.  Find the manhattan distance (abs(dx) + abs(dy)) from the starting point to the closest point.\n",
    "\n",
    "Part 2\n",
    "------\n",
    "Find the distance travelled along each wire to each intersection point and print out the minimum of the sum of the distances to each intersection.\n",
    "\n",
    "Testcases\n",
    "---------\n",
    "These are testcases from the advent of code site.\n",
    "\n",
    "```\n",
    "R8,U5,L5,D3\n",
    "U7,R6,D4,L4\n",
    "```\n",
    "part1 distance = 6,\n",
    "part2 distance = 30\n",
    "```\n",
    "R75,D30,R83,U83,L12,D49,R71,U7,L72\n",
    "U62,R66,U55,R34,D71,R55,D58,R83\n",
    "```\n",
    "part1 distance = 159,\n",
    "part2 distance = 610\n",
    "```\n",
    "R98,U47,R26,D63,R33,U87,L62,D20,R33,U53,R51\n",
    "U98,R91,D20,R16,D67,R40,U7,R15,U6,R7\n",
    "```\n",
    "part1 distance = 135,\n",
    "part2 distance 410\n",
    "\n",
    "Okay, first let's just try out the code to be sure it works."
   ]
  },
  {
   "cell_type": "code",
   "execution_count": 1,
   "metadata": {},
   "outputs": [
    {
     "name": "stdout",
     "output_type": "stream",
     "text": [
      "135\n",
      "410\n"
     ]
    }
   ],
   "source": [
    "import fileinput\n",
    "\n",
    "DIRS = {\n",
    "    'U': (0,-1), 'D': (0, 1),\n",
    "    'L': (-1,0), 'R': (1,0),\n",
    "}\n",
    "\n",
    "def parse(line):\n",
    "    result = {}\n",
    "    x = y = steps = 0\n",
    "    for token in line.split(','):\n",
    "        (dx, dy), n = DIRS[token[0]], int(token[1:])\n",
    "        for i in range(n):\n",
    "            x, y, steps = x + dx, y + dy, steps + 1\n",
    "            result.setdefault((x,y), steps)\n",
    "    return result\n",
    "\n",
    "# have to modify this line to point to test cases 1, 2 or 3\n",
    "# expect 6, 30; 159, 60; and 135, 410 as answers, respectively.\n",
    "lines = list(fileinput.input(\"data/aoc_day3_2019_test3.txt\"))\n",
    "a = parse(lines[0])\n",
    "b = parse(lines[1])\n",
    "x = set(a) & set(b)\n",
    "print(min(sum(map(abs, p)) for p in x)) # part 1\n",
    "print(min(a[k] + b[k] for k in x)) # part 2"
   ]
  },
  {
   "cell_type": "markdown",
   "metadata": {},
   "source": [
    "It works for me!  Hopefully for you, too.  \n",
    "\n",
    "Top Level\n",
    "-----\n",
    "\n",
    "Okay, let's go through this step by step..."
   ]
  },
  {
   "cell_type": "code",
   "execution_count": 2,
   "metadata": {},
   "outputs": [
    {
     "data": {
      "text/plain": [
       "['R8,U5,L5,D3\\n', 'U7,R6,D4,L4']"
      ]
     },
     "execution_count": 2,
     "metadata": {},
     "output_type": "execute_result"
    }
   ],
   "source": [
    "# The first code we execute is to read the file into `lines`\n",
    "lines = list(fileinput.input(\"data/aoc_day3_2019_test1.txt\"))\n",
    "# uncomment to see what list() accomplishes\n",
    "# lines = fileinput.input(\"data/aoc_day3_2019_test1.txt\")\n",
    "\n",
    "# https://docs.python.org/3/library/fileinput.html\n",
    "# fileinput — Iterate over lines from multiple input streams\n",
    "# fileinput.input() generates all the lines of all files listed on the commandline\n",
    "# To specify an alternative list of filenames, pass it as the first argument to input()\n",
    "\n",
    "# wrapping fileinput.input() in list() resolves it from a generator to a real list object.\n",
    "\n",
    "# you should see lines containing ['R8,U5,L5,D3\\n', 'U7,R6,D4,L4']\n",
    "# or one entry for each line.\n",
    "lines"
   ]
  },
  {
   "cell_type": "code",
   "execution_count": 3,
   "metadata": {},
   "outputs": [
    {
     "data": {
      "text/plain": [
       "{(1, 0): 1,\n",
       " (2, 0): 2,\n",
       " (3, 0): 3,\n",
       " (4, 0): 4,\n",
       " (5, 0): 5,\n",
       " (6, 0): 6,\n",
       " (7, 0): 7,\n",
       " (8, 0): 8,\n",
       " (8, -1): 9,\n",
       " (8, -2): 10,\n",
       " (8, -3): 11,\n",
       " (8, -4): 12,\n",
       " (8, -5): 13,\n",
       " (7, -5): 14,\n",
       " (6, -5): 15,\n",
       " (5, -5): 16,\n",
       " (4, -5): 17,\n",
       " (3, -5): 18,\n",
       " (3, -4): 19,\n",
       " (3, -3): 20,\n",
       " (3, -2): 21}"
      ]
     },
     "execution_count": 3,
     "metadata": {},
     "output_type": "execute_result"
    }
   ],
   "source": [
    "# Then, we parse each of the lines\n",
    "a = parse(lines[0])\n",
    "b = parse(lines[1])\n",
    "\n",
    "# Let's skip understanding parse() for the moment...What does parse return?  \n",
    "# It returns a dictionary where the keys are all (x, y) pairs\n",
    "# and the values are the steps to get to that point.\n",
    "a\n",
    "\n",
    "# note that the first line's command is \"R8\" which moves the turtle to the right 8 steps.\n",
    "# so the first entries step from x=1...8 y=0.  Note that it does NOT cover 0,0. That's\n",
    "# important to not have intersections at the origin."
   ]
  },
  {
   "cell_type": "code",
   "execution_count": 4,
   "metadata": {},
   "outputs": [
    {
     "data": {
      "text/plain": [
       "{(3, -3), (6, -5)}"
      ]
     },
     "execution_count": 4,
     "metadata": {},
     "output_type": "execute_result"
    }
   ],
   "source": [
    "# Next we have the first \"cool idea\".  \n",
    "# We turn the keys of each line's dictionary (the x,y tuples) into sets\n",
    "# and then we intersect the sets to find the places where the lines intersect.\n",
    "# Obvious in hindsight, but I didn't think to do this.\n",
    "\n",
    "x = set(a) & set(b)\n",
    "\n",
    "# The intersection returns the set of x,y tuples that intersect\n",
    "x\n",
    "\n",
    "# uncomment to just see what set(a) does\n",
    "#set(a)"
   ]
  },
  {
   "cell_type": "markdown",
   "metadata": {},
   "source": [
    "Part 1 Solution\n",
    "--------"
   ]
  },
  {
   "cell_type": "code",
   "execution_count": 5,
   "metadata": {},
   "outputs": [
    {
     "name": "stdout",
     "output_type": "stream",
     "text": [
      "6\n"
     ]
    }
   ],
   "source": [
    "# now to solve part 1, we just need to find the minimum manhattan \n",
    "# distance (abs(x)+abs(y)) in that set\n",
    "print(min(sum(map(abs, p)) for p in x))"
   ]
  },
  {
   "cell_type": "code",
   "execution_count": 6,
   "metadata": {},
   "outputs": [
    {
     "data": {
      "text/plain": [
       "[(6, -5), (3, -3)]"
      ]
     },
     "execution_count": 6,
     "metadata": {},
     "output_type": "execute_result"
    }
   ],
   "source": [
    "# to explain that inside-out it is a generator comprehension, but I will use\n",
    "# a list comprehension so you can see what is going on... \n",
    "# first we just get a list of the points\n",
    "[p for p in x]"
   ]
  },
  {
   "cell_type": "code",
   "execution_count": 7,
   "metadata": {},
   "outputs": [
    {
     "data": {
      "text/plain": [
       "11"
      ]
     },
     "execution_count": 7,
     "metadata": {},
     "output_type": "execute_result"
    }
   ],
   "source": [
    "# now for each p we map the abs() function across the components and then sum them.\n",
    "p = (6,-5)\n",
    "sum(map(abs,p))"
   ]
  },
  {
   "cell_type": "code",
   "execution_count": 8,
   "metadata": {},
   "outputs": [
    {
     "name": "stdout",
     "output_type": "stream",
     "text": [
      "6\n"
     ]
    }
   ],
   "source": [
    "# this results in a list that we print out the minimum--solving the first part!\n",
    "print(min([11, 6]))"
   ]
  },
  {
   "cell_type": "markdown",
   "metadata": {},
   "source": [
    "Part 2 Solution\n",
    "--------"
   ]
  },
  {
   "cell_type": "code",
   "execution_count": 9,
   "metadata": {},
   "outputs": [
    {
     "name": "stdout",
     "output_type": "stream",
     "text": [
      "30\n"
     ]
    }
   ],
   "source": [
    "# now here is how we solve part 2 \n",
    "print(min(a[k] + b[k] for k in x))"
   ]
  },
  {
   "cell_type": "code",
   "execution_count": 10,
   "metadata": {},
   "outputs": [
    {
     "data": {
      "text/plain": [
       "[(6, -5), (3, -3)]"
      ]
     },
     "execution_count": 10,
     "metadata": {},
     "output_type": "execute_result"
    }
   ],
   "source": [
    "# and explaining that inside out...first we just get a list of the points\n",
    "# (indexed by k instead of p)\n",
    "[k for k in x]"
   ]
  },
  {
   "cell_type": "code",
   "execution_count": 11,
   "metadata": {},
   "outputs": [
    {
     "data": {
      "text/plain": [
       "(15, 15)"
      ]
     },
     "execution_count": 11,
     "metadata": {},
     "output_type": "execute_result"
    }
   ],
   "source": [
    "# and then we get the steps for each point by just using the x,y tuples as keys \n",
    "# to the dictionaries:\n",
    "a[(6, -5)], b[(6, -5)]"
   ]
  },
  {
   "cell_type": "code",
   "execution_count": 12,
   "metadata": {},
   "outputs": [
    {
     "data": {
      "text/plain": [
       "[30, 40]"
      ]
     },
     "execution_count": 12,
     "metadata": {},
     "output_type": "execute_result"
    }
   ],
   "source": [
    "# adding those 2 numbers up gives the distances desired for part 2\n",
    "[a[k] + b[k] for k in x]"
   ]
  },
  {
   "cell_type": "code",
   "execution_count": 13,
   "metadata": {},
   "outputs": [
    {
     "name": "stdout",
     "output_type": "stream",
     "text": [
      "30\n"
     ]
    }
   ],
   "source": [
    "# which we find the minimum for the answer.\n",
    "print(min([30, 40]))"
   ]
  },
  {
   "cell_type": "markdown",
   "metadata": {},
   "source": [
    "parse()\n",
    "----\n",
    "\n",
    "Let's go back and look at the `parse` function."
   ]
  },
  {
   "cell_type": "code",
   "execution_count": 14,
   "metadata": {},
   "outputs": [],
   "source": [
    "# I'll set line to a value we can use as an example:\n",
    "# def parse(line):\n",
    "line = 'R8,U5,L5,D3\\n'\n",
    "\n",
    "# and we initialize some things. result is the dictionary we will return\n",
    "# remember that will have the keys as (x, y) pairs\n",
    "# and the values are the steps to get to that point.\n",
    "result = {}\n",
    "x = y = steps = 0"
   ]
  },
  {
   "cell_type": "code",
   "execution_count": 15,
   "metadata": {},
   "outputs": [
    {
     "name": "stdout",
     "output_type": "stream",
     "text": [
      ">R8<\n",
      ">U5<\n",
      ">L5<\n",
      ">D3\n",
      "<\n"
     ]
    }
   ],
   "source": [
    "# we're going to split line into separate tokens.  Let's look at that:\n",
    "for token in line.split(','): \n",
    "    print(f\">{token}<\") # just to see what is coming"
   ]
  },
  {
   "cell_type": "code",
   "execution_count": 16,
   "metadata": {},
   "outputs": [
    {
     "name": "stdout",
     "output_type": "stream",
     "text": [
      "R 8 -> (1,0) 8\n",
      "U 5 -> (0,-1) 5\n",
      "L 5 -> (-1,0) 5\n",
      "D 3 -> (0,1) 3\n"
     ]
    }
   ],
   "source": [
    "# the next line is doing two things.  Finding the x,y direction we are going to go in\n",
    "# and the number of steps we will take\n",
    "for token in line.split(','):\n",
    "    # this (dx, dy), n = DIRS[token[0]], int(token[1:])\n",
    "    # is equivalent to\n",
    "    (dx, dy) = DIRS[token[0]]  # index 'R', 'U', etc into DIRS dictionary\n",
    "    n = int(token[1:]) # steps to take\n",
    "    print(f\"{token[0]} {int(token[1:])} -> ({dx},{dy}) {n}\")"
   ]
  },
  {
   "cell_type": "code",
   "execution_count": 17,
   "metadata": {},
   "outputs": [
    {
     "data": {
      "text/plain": [
       "{(1, 0): 1,\n",
       " (2, 0): 2,\n",
       " (3, 0): 3,\n",
       " (4, 0): 4,\n",
       " (5, 0): 5,\n",
       " (6, 0): 6,\n",
       " (7, 0): 7,\n",
       " (8, 0): 8}"
      ]
     },
     "execution_count": 17,
     "metadata": {},
     "output_type": "execute_result"
    }
   ],
   "source": [
    "# now, n is the number of steps to take, so we take each step in a for loop\n",
    "# this is nested within the per-token loop\n",
    "result = {}\n",
    "x = y = steps = 0 # so you can play with this part\n",
    "(dx, dy) = (1,0) # first dx, dy\n",
    "n = 8 # first steps\n",
    "for i in range(n):\n",
    "    x, y, steps = x + dx, y + dy, steps + 1\n",
    "    #print(f\"({x},{y}): {steps}\")\n",
    "    result.setdefault((x,y), steps)\n",
    "result"
   ]
  },
  {
   "cell_type": "markdown",
   "metadata": {},
   "source": [
    "Voilà!\n",
    "======\n",
    "\n",
    "QED\n",
    "===\n",
    "\n",
    "Fini\n",
    "===="
   ]
  }
 ],
 "metadata": {
  "kernelspec": {
   "display_name": "Python 3",
   "language": "python",
   "name": "python3"
  },
  "language_info": {
   "codemirror_mode": {
    "name": "ipython",
    "version": 3
   },
   "file_extension": ".py",
   "mimetype": "text/x-python",
   "name": "python",
   "nbconvert_exporter": "python",
   "pygments_lexer": "ipython3",
   "version": "3.7.4"
  }
 },
 "nbformat": 4,
 "nbformat_minor": 4
}
