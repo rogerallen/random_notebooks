{
 "cells": [
  {
   "cell_type": "markdown",
   "metadata": {},
   "source": [
    "Found via Tweet from John Carmack\n",
    "\n",
    "http://www.actionscript.org/forums/showpost.php3?s=c68c3e3a7b9bfed76d971fe7658dd3b5&p=915318&postcount=7\n",
    "\n",
    "Source for this formula is:\n",
    "\n",
    "\"Concrete Mathematics - a foundation for computer science 2nd Edition\" by Graham, Knuth, and Patashnik, page 99\n",
    "```\n",
    "n = the tile in the order list \n",
    "m = floor( sqrt(n) )\n",
    "x(n) = -1^(m+1) [ (n - m(m+1)) * [floor(2*sqrt(n)) is even] + ceil(m / 2) ]\n",
    "y(n) = -1^(m+1) [ (n - m(m+1)) * [floor(2*sqrt(n)) is odd] - ceil(m / 2) ]\n",
    "```\n",
    "\n",
    "His code didn't work when I translated it.  So, I coded it up myself."
   ]
  },
  {
   "cell_type": "code",
   "execution_count": 1,
   "metadata": {
    "collapsed": false
   },
   "outputs": [],
   "source": [
    "%matplotlib inline\n",
    "import math\n",
    "import matplotlib.pyplot as plt"
   ]
  },
  {
   "cell_type": "code",
   "execution_count": 2,
   "metadata": {
    "collapsed": true
   },
   "outputs": [],
   "source": [
    "def my_spiral(n):\n",
    "    # n = the tile number\n",
    "    m = math.floor( math.sqrt(n) )\n",
    "    fsn = math.floor(2.0*math.sqrt(n))\n",
    "    fsn_is_even = 1-(fsn % 2)\n",
    "    fsn_is_odd = (fsn % 2)\n",
    "    x = pow(-1,m)*( ((n - m*(m+1)) * fsn_is_even) + math.ceil(m / 2.0) )\n",
    "    y = pow(-1,m)*( ((n - m*(m+1)) * fsn_is_odd) - math.ceil(m / 2.0) )\n",
    "    return (x, y)"
   ]
  },
  {
   "cell_type": "code",
   "execution_count": 3,
   "metadata": {
    "collapsed": false
   },
   "outputs": [
    {
     "data": {
      "image/png": "[encoded data removed]",
      "text/plain": [
       "<matplotlib.figure.Figure at 0x10d2ce2b0>"
      ]
     },
     "metadata": {},
     "output_type": "display_data"
    }
   ],
   "source": [
    "xys = [my_spiral(n) for n in range(400)]\n",
    "xs = [xy[0] for xy in xys]\n",
    "ys = [xy[1] for xy in xys]\n",
    "#lost this when I dropped --pylab from commandline\n",
    "#figsize(6,6)\n",
    "p = plt.plot(xs,ys)"
   ]
  },
  {
   "cell_type": "code",
   "execution_count": 4,
   "metadata": {
    "collapsed": false
   },
   "outputs": [
    {
     "name": "stdout",
     "output_type": "stream",
     "text": [
      "(0, 0) (0, 0) \n",
      "(0, 1) (0, 1) \n",
      "(-1, 1) (-1, 1) \n",
      "(-1, 0) (-1, 0) \n",
      "(-1, -1) (-1, -1) \n",
      "(0, -1) (0, -1) \n",
      "(1, -1) (1, -1) \n",
      "(1, 0) (1, 0) \n",
      "(1, 1) (1, 1) \n",
      "(1, 2) (1, 2) \n",
      "(0, 2) (0, 2) \n",
      "(-1, 2) (-1, 2) \n",
      "(-2, 2) (-2, 2) \n",
      "(-2, 1) (-2, 1) \n",
      "(-2, 0) (-2, 0) \n",
      "(-2, -1) (-2, -1) \n",
      "(-2, -2) (-2, -2) \n",
      "(-1, -2) (-1, -2) \n",
      "(0, -2) (0, -2) \n"
     ]
    }
   ],
   "source": [
    "# testing made this work\n",
    "# -1**2 != (-1)**2\n",
    "gold = [ (0,0), (0,1), (-1,1), (-1,0), (-1,-1), (0,-1), (1,-1), (1,0), (1,1), (1,2),\n",
    "         (0,2), (-1,2), (-2,2), (-2, 1), (-2,0), (-2, -1), (-2,-2), (-1,-2), (0,-2)]\n",
    "for i in range(len(gold)):\n",
    "    s = my_spiral(i)\n",
    "    print(\"%s %s %s\"%(gold[i], s, \"\" if gold[i] == s else \"Fail\"))"
   ]
  },
  {
   "cell_type": "code",
   "execution_count": null,
   "metadata": {
    "collapsed": true
   },
   "outputs": [],
   "source": []
  }
 ],
 "metadata": {
  "kernelspec": {
   "display_name": "Python 3",
   "language": "python",
   "name": "python3"
  },
  "language_info": {
   "codemirror_mode": {
    "name": "ipython",
    "version": 3
   },
   "file_extension": ".py",
   "mimetype": "text/x-python",
   "name": "python",
   "nbconvert_exporter": "python",
   "pygments_lexer": "ipython3",
   "version": "3.5.1"
  }
 },
 "nbformat": 4,
 "nbformat_minor": 0
}
